{
 "cells": [
  {
   "cell_type": "code",
   "execution_count": 4,
   "id": "1aa30e68",
   "metadata": {},
   "outputs": [],
   "source": [
    "import os\n",
    "import sys\n",
    "\n",
    "import numpy as np\n",
    "import pandas as pd\n",
    "import openpyxl\n",
    "\n",
    "from openpyxl.utils.dataframe import dataframe_to_rows\n",
    "from openpyxl.styles import PatternFill"
   ]
  },
  {
   "cell_type": "code",
   "execution_count": 17,
   "id": "d89535a3",
   "metadata": {},
   "outputs": [
    {
     "data": {
      "text/plain": [
       "'C:\\\\Users\\\\ENURI\\\\Desktop\\\\김동훈\\\\Works\\\\Andrew\\\\Python'"
      ]
     },
     "execution_count": 17,
     "metadata": {},
     "output_type": "execute_result"
    }
   ],
   "source": [
    "os.getcwd() # current working directory"
   ]
  },
  {
   "cell_type": "code",
   "execution_count": 334,
   "id": "426521c3",
   "metadata": {},
   "outputs": [],
   "source": [
    "df = pd.read_excel('./Data/20221225_네이버절대매칭.xlsx', index_col = 0, sheet_name = 'MAT_RATE')\n",
    "df2 = pd.read_excel('./Data/20221225_네이버절대매칭.xlsx', index_col = 0, sheet_name = 'ADD_EP_CNT')"
   ]
  },
  {
   "cell_type": "code",
   "execution_count": 431,
   "id": "5cc3a43a",
   "metadata": {},
   "outputs": [],
   "source": [
    "df_1 = pd.read_excel('./Data/20221226_화장품몰_절대매칭.xlsx', sheet_name = 0)\n",
    "df_2 = pd.read_excel('./Data/20221226_화장품몰_절대매칭.xlsx', sheet_name = 1)\n",
    "df_3 = pd.read_excel('./Data/20221226_화장품몰_절대매칭.xlsx', sheet_name = 2)"
   ]
  },
  {
   "cell_type": "code",
   "execution_count": 335,
   "id": "04015c5f",
   "metadata": {},
   "outputs": [],
   "source": [
    "df['cate'] = df['cate'].apply(lambda x: '0' + str(x) if len(str(x)) % 2 != 0 else str(x))\n",
    "df = df.sort_values(['rate']).reset_index(drop = True)\n",
    "\n",
    "df2['cate'] = df2['cate'].apply(lambda x: '0' + str(x) if len(str(x)) % 2 != 0 else str(x))"
   ]
  },
  {
   "cell_type": "markdown",
   "id": "ca398740",
   "metadata": {},
   "source": [
    "### 엑셀 파일 생성"
   ]
  },
  {
   "cell_type": "code",
   "execution_count": 186,
   "id": "2f41d973",
   "metadata": {},
   "outputs": [
    {
     "name": "stdout",
     "output_type": "stream",
     "text": [
      "['test_sheet1', 'Sheet', 'test_sheet2']\n",
      "['test_sheet1', 'Sheet', 'test_sheet2']\n"
     ]
    },
    {
     "name": "stderr",
     "output_type": "stream",
     "text": [
      "C:\\Users\\ENURI\\AppData\\Local\\Temp\\ipykernel_22936\\2353242651.py:21: DeprecationWarning: Call to deprecated function get_sheet_names (Use wb.sheetnames).\n",
      "  print(wb.get_sheet_names())\n"
     ]
    }
   ],
   "source": [
    "'''\n",
    ">>> wb = openpyxl.Workbook()\n",
    "엑셀 파일 형태의 객체(인스턴스)를 만들어서 wb라는 변수로 선언\n",
    "해당 객체를 생성하는 순간 'Sheet'라는 이름을 가진 기본 시트가 생성된다.\n",
    "\n",
    "만약 기존에 있는 엑셀 파일을 읽어서 작업을 하고싶은 경우라면,\n",
    ">>> wb = openpyxl.load_workbook('file_name.xlsx')\n",
    "\n",
    "이후,\n",
    ">>> wb.create_sheet('sheet_name', 'sheet_loc')\n",
    "라는 메서드를 이용해서 추가적인 시트를 생성할 수 있지만, 기본적으로 생성된 Sheet는 남아있다.\n",
    "sheet_loc 값을 입력해주지 않았을 경우에는 맨 뒤에 생성된다\n",
    "'''\n",
    "\n",
    "wb = openpyxl.Workbook()\n",
    "\n",
    "wb.create_sheet('test_sheet1', 0)\n",
    "wb.create_sheet('test_sheet2')\n",
    "\n",
    "print(wb.sheetnames)\n",
    "print(wb.get_sheet_names())"
   ]
  },
  {
   "cell_type": "markdown",
   "id": "74569bf8",
   "metadata": {},
   "source": [
    "### Sheet 활성화"
   ]
  },
  {
   "cell_type": "code",
   "execution_count": 187,
   "id": "11def4da",
   "metadata": {},
   "outputs": [
    {
     "name": "stdout",
     "output_type": "stream",
     "text": [
      "<Worksheet \"test_sheet1\"> <Worksheet \"Sheet\"> <Worksheet \"test_sheet2\">\n"
     ]
    }
   ],
   "source": [
    "'''\n",
    "작업은 sheet 단위로 이루어지며,\n",
    "기본적으로 sheet 객체를 변수에 저장하여 작업한다.\n",
    "\n",
    "active 메서드를 이용하거나 원하는 시트명을 선언하여 활성화하며,\n",
    "create_sheet 메서드 사용시에 변수 선언을 하면, 해당 변수에서 해당 시트가 활성화되어 저장된다.\n",
    "\n",
    "active를 이용할 시에는,\n",
    ">>> ws1 = wb.active\n",
    "\n",
    "시트명을 선언할 경우,\n",
    ">>> ws2 = wb['sheet_name']\n",
    "\n",
    "로 실행하며, active 할 경우 가장 첫 번째 시트가 활성화된다.\n",
    "'''\n",
    "\n",
    "ws1 = wb.active\n",
    "ws2 = wb['Sheet']\n",
    "ws3 = wb['test_sheet2']\n",
    "\n",
    "print(ws1, ws2, ws3)"
   ]
  },
  {
   "cell_type": "markdown",
   "id": "da9064c3",
   "metadata": {},
   "source": [
    "### 시트명 변경"
   ]
  },
  {
   "cell_type": "code",
   "execution_count": 188,
   "id": "31701b67",
   "metadata": {},
   "outputs": [
    {
     "name": "stdout",
     "output_type": "stream",
     "text": [
      "['test_sheet1', 'Sheet', 'test_sheet2']\n",
      "<Worksheet \"test_sheet1\">\n",
      "<Worksheet \"Sheet\">\n",
      "<Worksheet \"test_sheet2\">\n",
      "['테스트_시트1', '테스트_시트2', '테스트_시트3']\n"
     ]
    }
   ],
   "source": [
    "'''\n",
    "각 시트별로 변경해주어야 한다.\n",
    "\n",
    ">>> ws.title\n",
    "\n",
    "해당 변수에 저장되어있는 시트의 시트명을 불러오며, 해당 값에 다른 값을 저장해주면 시트명이 변경된다.\n",
    ">>> ws.title = '변경 시트명'\n",
    "'''\n",
    "\n",
    "print(wb.sheetnames)\n",
    "\n",
    "for i, s in enumerate(wb.sheetnames):\n",
    "    print(wb[s])\n",
    "    wb[s].title = f'테스트_시트{i+1}'\n",
    "    \n",
    "print(wb.sheetnames)"
   ]
  },
  {
   "cell_type": "markdown",
   "id": "e42214dc",
   "metadata": {},
   "source": [
    "### 기본 사용 방법 (Pandas to openpyxl)"
   ]
  },
  {
   "cell_type": "code",
   "execution_count": 273,
   "id": "eaa0e8a2",
   "metadata": {},
   "outputs": [],
   "source": [
    "'''\n",
    "기본적으로, 판다스 데이터 프레임에 있는 값을 row 단위로 워크시트에 append 하는 식으로 데이터를 처리한다\n",
    "\n",
    "dataframe_to_rows 라는 함수 사용\n",
    ">>> dataframe_to_rows(df, index = True, header = True)\n",
    "\n",
    "해당 함수의 결과로 generator 가 생성되며, 해당 결과를 for문을 통해 워크 시트에 추가해준다.\n",
    "index, header 의 경우, 데이터프레임의 인덱스 값과 컬럼 값을 엑셀 데이터에 포함할 것인지 여부를 묻는 것이다.\n",
    "유의할 점은, index를 True로 했을 경우, 컬럼 rows와 데이터 rows 사이에 공백 행이 하나 생긴다.\n",
    "\n",
    "[None, 'cate', 'lcate_name', 'mcate_name', 'rate', 'price']\n",
    "[None]\n",
    "[0, 801, '뷰티', '스킨케어', 0.2854984894259819, 154006632]\n",
    "\n",
    "for 문을 통해 구성 값을 워크시트로 추가했을 경우,\n",
    "cell 단위로 데이터들이 저장되며, 원하는 cell에 접근하는 방법은,\n",
    "\n",
    "컬럼명 선언 후, 해당 값의 위치 index 입력 - 컬럼명은 엑셀 기준으로, 알파벳으로 구성된다.\n",
    "ws['A'][0] - 엑셀 위치 상으로 'A'열의 1행 값 / 데이터 프레임 기준으로 1열 1행 값 (컬럼 포함일 경우, 첫 번째 컬럼 명)\n",
    "ws[1][0] - 엑셀 위치  상으로 1행의 'A'열 값 / 데이터 프레임 기준으로 1열 1행 값 (컬럼 포함일 경우, 첫 번째 컬럼 명)\n",
    "\n",
    "기본적으로 다양한 엑셀 상에서의 조건을 적용할 때, 셀 단위로 접근하여 해당 셀에 옵션 값을 부여하는 식이다.\n",
    "'''\n",
    "\n",
    "wb = openpyxl.Workbook()\n",
    "ws = wb.active\n",
    "ws.title = '테스트_시트1'\n",
    "\n",
    "for row in dataframe_to_rows(df, index = False, header = True):\n",
    "    ws.append(row)"
   ]
  },
  {
   "cell_type": "code",
   "execution_count": 291,
   "id": "66815b10",
   "metadata": {},
   "outputs": [
    {
     "data": {
      "text/plain": [
       "['1662', '생활,취미', '기타동물용품', 1.0, 5041540]"
      ]
     },
     "execution_count": 291,
     "metadata": {},
     "output_type": "execute_result"
    }
   ],
   "source": [
    "row"
   ]
  },
  {
   "cell_type": "code",
   "execution_count": 274,
   "id": "05f25964",
   "metadata": {},
   "outputs": [],
   "source": [
    "# 해당 셀에 테두리 및 볼드 처리 (판다스의 컬럼, 인덱스에 적용되는 효과)\n",
    "for cell in ws[1]:\n",
    "    cell.style = 'Pandas'"
   ]
  },
  {
   "cell_type": "code",
   "execution_count": 275,
   "id": "7b350f4a",
   "metadata": {},
   "outputs": [],
   "source": [
    "# 열 너비 맞춤 - 데이터 값에 상관없이 기본 셀 크기로 저장이 되는데 이를 조정하기 위한 방법\n",
    "columns = None\n",
    "margin = 2\n",
    "\n",
    "for i, column_cells in enumerate(ws.columns):\n",
    "    is_ok = False\n",
    "    if columns == None:\n",
    "        is_ok = True\n",
    "    elif isinstance(columns, list) and i in columns:\n",
    "        is_ok = True\n",
    "        \n",
    "    if is_ok:\n",
    "        val_list = [str(cell.value) for cell in column_cells]\n",
    "        if re.search('[ㄱ-ㅎ가-힣]+', val_list[1]):\n",
    "            length = max([len(x) for x in val_list]) * 2\n",
    "        else:\n",
    "            length = max([len(x) for x in val_list])\n",
    "\n",
    "        ws.column_dimensions[column_cells[0].column_letter].width = length + margin"
   ]
  },
  {
   "cell_type": "code",
   "execution_count": 276,
   "id": "a45b8cbc",
   "metadata": {},
   "outputs": [],
   "source": [
    "from openpyxl.styles import PatternFill"
   ]
  },
  {
   "cell_type": "code",
   "execution_count": 287,
   "id": "08f985ac",
   "metadata": {},
   "outputs": [],
   "source": [
    "# 색 칠하기\n",
    "\n",
    "fill_color = PatternFill(start_color = 'FFF2CC',\n",
    "                         end_color = 'FFF2CC',\n",
    "                         fill_type = 'solid')\n",
    "\n",
    "for i in df.loc[df['rate'] < 0.5].index:\n",
    "    for cell in ws[i + 2]:\n",
    "        cell.fill = fill_color"
   ]
  },
  {
   "cell_type": "code",
   "execution_count": 288,
   "id": "82c53e41",
   "metadata": {},
   "outputs": [],
   "source": [
    "wb.save('test.xlsx')"
   ]
  },
  {
   "cell_type": "markdown",
   "id": "dfafc781",
   "metadata": {},
   "source": [
    "### 개별 셀에 직접 값 입력"
   ]
  },
  {
   "cell_type": "code",
   "execution_count": 423,
   "id": "2224bfaa",
   "metadata": {},
   "outputs": [],
   "source": [
    "wb = openpyxl.Workbook()\n",
    "ws = wb.active\n",
    "ws.title = '테스트_시트1'"
   ]
  },
  {
   "cell_type": "markdown",
   "id": "70d36bd6",
   "metadata": {},
   "source": [
    "### 여러 데이터 프레임을 하나의 시트에 작성하고 싶을 때\n",
    "\n",
    "각 셀 위치에 직접 접근해서 깂을 입력한다.\n",
    "\n",
    "여러 개의 테이블을 하나의 시트에 입력하고 싶다면, 해당 데이터의 개수 등을 참조하여\n",
    "\n",
    "원하는 간격만큼 데이터를 띄워서 입력하는 식으로 로직을 구성하면 된다."
   ]
  },
  {
   "cell_type": "code",
   "execution_count": 424,
   "id": "a84ec863",
   "metadata": {},
   "outputs": [],
   "source": [
    "start_col = 2\n",
    "start_row = 2\n",
    "\n",
    "for i, col in enumerate(df.columns):\n",
    "    ws.cell(start_row, start_col + i).value = col\n",
    "    ws.cell(start_row, start_col + i).style = 'Pandas'\n",
    "    \n",
    "last_col = start_col + i\n",
    "    \n",
    "for r, rows in enumerate(df.values):\n",
    "    for c, cols in enumerate(rows):\n",
    "        ws.cell(start_row + 1 + r, start_col + c).value = df.values[r][c]\n",
    "        \n",
    "        if rows[3] < 0.5:\n",
    "            ws.cell(start_row + 1 + r, start_col + c).fill = fill_color"
   ]
  },
  {
   "cell_type": "code",
   "execution_count": 425,
   "id": "58778e87",
   "metadata": {},
   "outputs": [],
   "source": [
    "column_gap = 2\n",
    "start_col = last_col + column_gap + 1\n",
    "start_row = 2\n",
    "\n",
    "for i, col in enumerate(df2.columns):\n",
    "    ws.cell(start_row, start_col + i).value = col\n",
    "    ws.cell(start_row, start_col + i).style = 'Pandas'\n",
    "    \n",
    "last_col = start_col + i\n",
    "\n",
    "for r, rows in enumerate(df2.values):\n",
    "    for c, cols in enumerate(rows):\n",
    "        ws.cell(start_row + 1 + r, start_col + c).value = df2.values[r][c]\n",
    "        \n",
    "ws.cell(start_row + 1 + r + 1, start_col).value = '총합'\n",
    "# ws.cell(start_row + 1 + r + 1, start_col).style = 'Pandas'\n",
    "\n",
    "ws.cell(start_row + 1 + r + 1, start_col + len(rows) - 1).value = df2['add_ep_cnt'].sum()\n",
    "# ws.cell(start_row + 1 + r + 1, start_col + len(rows) - 1).style = 'Pandas'"
   ]
  },
  {
   "cell_type": "code",
   "execution_count": 426,
   "id": "c2e4d020",
   "metadata": {},
   "outputs": [],
   "source": [
    "# 열 너비 맞춤 - 데이터 값에 상관없이 기본 셀 크기로 저장이 되는데 이를 조정하기 위한 방법\n",
    "columns = None\n",
    "margin = 2\n",
    "\n",
    "for i, column_cells in enumerate(ws.columns):\n",
    "    is_ok = False\n",
    "    if columns == None:\n",
    "        is_ok = True\n",
    "    elif isinstance(columns, list) and i in columns:\n",
    "        is_ok = True\n",
    "        \n",
    "    if is_ok:\n",
    "        val_list = [str(cell.value) for cell in column_cells]\n",
    "        if re.search('[ㄱ-ㅎ가-힣]+', val_list[2]):\n",
    "            length = max([len(x) for x in val_list]) * 2\n",
    "        else:\n",
    "            length = max([len(x) for x in val_list])\n",
    "\n",
    "        ws.column_dimensions[column_cells[0].column_letter].width = length + margin"
   ]
  },
  {
   "cell_type": "code",
   "execution_count": 475,
   "id": "68171d34",
   "metadata": {},
   "outputs": [],
   "source": [
    "# Naver / Kakao / Coupang\n",
    "def output_type1(mat_rate_df, add_pl_list_df, site):\n",
    "    mat_rate_df = mat_rate_df.sort_values(['rate'], ascending = True)\n",
    "    \n",
    "    if site == 'naver':\n",
    "        mat_rate = 0.5\n",
    "    elif site == 'kakao':\n",
    "        mat_rate = 0.5\n",
    "    elif site == 'coupang':\n",
    "        mat_rate = 0.7\n",
    "    else:\n",
    "        pass\n",
    "    \n",
    "    wb = openpyxl.Workbook()\n",
    "\n",
    "    ws_1 = wb.active\n",
    "    ws_1.title = 'DB별 현황'\n",
    "    ws_2 = wb.create_sheet(datetime.datetime.strftime(datetime.datetime.now(), '%Y%m%d'))\n",
    "\n",
    "    # mat_rate_df\n",
    "    start_col = 2\n",
    "    start_row = 2\n",
    "    fill_color = PatternFill(start_color = 'FFF2CC',\n",
    "                             end_color = 'FFF2CC',\n",
    "                             fill_type = 'solid')\n",
    "\n",
    "    for i, col in enumerate(mat_rate_df.columns):\n",
    "        ws_2.cell(start_row, start_col + i).value = col\n",
    "        ws_2.cell(start_row, start_col + i).style = 'Pandas'\n",
    "        \n",
    "    last_col = start_col + i\n",
    "    \n",
    "    for r, rows in enumerate(mat_rate_df.values):\n",
    "        for c, val in enumerate(rows):\n",
    "            ws_2.cell(start_row + 1 + r, start_col + c).value = val\n",
    "            \n",
    "            if rows[3] < mat_rate:\n",
    "                ws_2.cell(start_row + 1 + r, start_col + c).fill = fill_color\n",
    "                \n",
    "    # add_pl_list_df\n",
    "    column_gap = 2\n",
    "    start_col = last_col + column_gap + 1\n",
    "    start_row = 2\n",
    "    \n",
    "    for i, col in enumerate(add_pl_list_df.columns):\n",
    "        ws_2.cell(start_row, start_col + i).value = col\n",
    "        ws_2.cell(start_row, start_col + i).style = 'Pandas'\n",
    "        \n",
    "    last_col = start_col + i\n",
    "    \n",
    "    for r, rows in enumerate(add_pl_list_df.values):\n",
    "        for c, val in enumerate(rows):\n",
    "            ws_2.cell(start_row + 1 + r, start_col + c).value = val\n",
    "            \n",
    "    ws_2.cell(start_row + 1 + r + 1, start_col).value = '총합'\n",
    "    ws_2.cell(start_row + 1 + r + 1, start_col + len(rows) - 1).value = add_pl_list_df['add_ep_cnt'].sum()\n",
    "    \n",
    "    # 셀 너비\n",
    "    columns = None\n",
    "    margin = 2\n",
    "\n",
    "    ws_1 = fit_column_size(ws_1, columns = None, margin = 2)\n",
    "    ws_2 = fit_column_size(ws_2, columns = None, margin = 2)\n",
    "    \n",
    "    return wb\n",
    "\n",
    "def output_type2(mat_rate_df, add_pl_cnt_df, add_pl_list_df):\n",
    "    mat_rate_df = mat_rate_df.sort_values(['차이'], ascending = False)\n",
    "    \n",
    "    wb = openpyxl.Workbook()\n",
    "\n",
    "    ws = wb.active\n",
    "    ws.title = datetime.datetime.strftime(datetime.datetime.now(), '%Y%m%d')\n",
    "    \n",
    "    # mat_rate_df\n",
    "    start_col = 2\n",
    "    start_row = 2\n",
    "    fill_color = PatternFill(start_color = 'FFF2CC',\n",
    "                             end_color = 'FFF2CC',\n",
    "                             fill_type = 'solid')\n",
    "\n",
    "    for i, col in enumerate(mat_rate_df.columns):\n",
    "        ws.cell(start_row, start_col + i).value = col\n",
    "        ws.cell(start_row, start_col + i).style = 'Pandas'\n",
    "        \n",
    "    last_col = start_col + i\n",
    "    \n",
    "    for r, rows in enumerate(mat_rate_df.values):\n",
    "        for c, val in enumerate(rows):\n",
    "            ws.cell(start_row + 1 + r, start_col + c).value = val\n",
    "            \n",
    "            if rows[-2] > 0:\n",
    "                ws.cell(start_row + 1 + r, start_col + c).fill = fill_color\n",
    "                \n",
    "    last_row = start_row + r + 1\n",
    "                \n",
    "    # add_pl_cnt_df\n",
    "    row_gap = 1\n",
    "    start_col = 2\n",
    "    start_row = last_row + row_gap + 1\n",
    "    \n",
    "    for i, col in enumerate(add_pl_cnt_df.columns):\n",
    "        ws.cell(start_row, start_col + i).value = col\n",
    "        ws.cell(start_row, start_col + i).style = 'Pandas'\n",
    "        \n",
    "    for r, rows in enumerate(add_pl_cnt_df.values):\n",
    "        for c, val in enumerate(rows):\n",
    "            ws.cell(start_row + 1 + r, start_col + c).value = val\n",
    "            \n",
    "    last_row = start_row + r\n",
    "    \n",
    "    # add_pl_list_df\n",
    "    col_gap = 1\n",
    "    start_col = last_col + col_gap + 1\n",
    "    start_row = 2\n",
    "    \n",
    "    for i, col in enumerate(add_pl_list_df.columns):\n",
    "        ws.cell(start_row, start_col + i).value = col\n",
    "        ws.cell(start_row, start_col + i).style = 'Pandas'\n",
    "        \n",
    "    last_col = start_col + i\n",
    "    \n",
    "    for r, rows in enumerate(add_pl_list_df.values):\n",
    "        for c, val in enumerate(rows):\n",
    "            ws.cell(start_row + 1 + r, start_col + c).value = val\n",
    "            \n",
    "    ws = fit_column_size(ws, columns = None, margin = 2)\n",
    "    \n",
    "    return wb\n",
    "\n",
    "def fit_column_size(worksheet, columns = None, margin = 2):\n",
    "    for i, column_cells in enumerate(worksheet.columns):\n",
    "        is_ok = False\n",
    "        if columns == None:\n",
    "            is_ok = True\n",
    "        elif isinstance(columns, list) and i in columns:\n",
    "            is_ok = True\n",
    "\n",
    "        if is_ok:\n",
    "            val_list = [str(cell.value) for cell in column_cells]\n",
    "            length = max([len(x) for x in val_list]) * 1.5\n",
    "\n",
    "            worksheet.column_dimensions[column_cells[0].column_letter].width = length + margin\n",
    "            \n",
    "    return worksheet"
   ]
  },
  {
   "cell_type": "code",
   "execution_count": 476,
   "id": "2401054f",
   "metadata": {},
   "outputs": [],
   "source": [
    "wb_1 = output_type1(df, df2, 'naver')\n",
    "wb_2 = output_type2(df_1, df_2, df_3)"
   ]
  },
  {
   "cell_type": "code",
   "execution_count": 479,
   "id": "62dfdd0d",
   "metadata": {},
   "outputs": [],
   "source": [
    "wb_1.save('test1.xlsx')"
   ]
  },
  {
   "cell_type": "code",
   "execution_count": 480,
   "id": "ac296c36",
   "metadata": {},
   "outputs": [],
   "source": [
    "wb_2.save('test2.xlsx')"
   ]
  }
 ],
 "metadata": {
  "kernelspec": {
   "display_name": "Python 3 (ipykernel)",
   "language": "python",
   "name": "python3"
  },
  "language_info": {
   "codemirror_mode": {
    "name": "ipython",
    "version": 3
   },
   "file_extension": ".py",
   "mimetype": "text/x-python",
   "name": "python",
   "nbconvert_exporter": "python",
   "pygments_lexer": "ipython3",
   "version": "3.9.15"
  }
 },
 "nbformat": 4,
 "nbformat_minor": 5
}
